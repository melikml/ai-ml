{
 "cells": [
  {
   "cell_type": "code",
   "id": "initial_id",
   "metadata": {
    "collapsed": true,
    "ExecuteTime": {
     "end_time": "2025-02-15T08:32:34.465476Z",
     "start_time": "2025-02-15T08:32:34.457146Z"
    }
   },
   "source": [
    "# Neural Network Implementation using the MNIST Dataset\n",
    "# I downloaded the dataset from kaggle but here are the links/ways to access the dataset\n",
    "# import kagglehub\n",
    "# \n",
    "# # Download latest version\n",
    "# path = kagglehub.dataset_download(\"hojjatk/mnist-dataset\")\n",
    "# \n",
    "# print(\"Path to dataset files:\", path)\n",
    "# https://www.kaggle.com/datasets/hojjatk/mnist-dataset?resource=download"
   ],
   "outputs": [],
   "execution_count": 1
  },
  {
   "metadata": {
    "ExecuteTime": {
     "end_time": "2025-02-15T10:23:43.371450Z",
     "start_time": "2025-02-15T10:23:43.285788Z"
    }
   },
   "cell_type": "code",
   "source": [
    "# Implemenation of the Neural Network Class: Task 1\n",
    "import numpy as np\n",
    "import struct\n",
    "import os\n",
    "\n",
    "class NeuralNetwork:\n",
    "    # Initialize the weights and biases - (Part a Initialization method)\n",
    "    def __init__(self, input_size=784, hidden_size=10, output_size=10, learning_rate=0.1):\n",
    "        self.W1 = np.random.randn(hidden_size, input_size) * 0.01\n",
    "        self.b1 = np.zeros((hidden_size, 1))\n",
    "        self.W2 = np.random.randn(output_size, hidden_size) * 0.01\n",
    "        self.b2 = np.zeros((output_size, 1))\n",
    "        self.learning_rate = learning_rate\n",
    "\n",
    "    # ReLU activation function  - my own function\n",
    "    def ReLU(self, Z):\n",
    "        return np.maximum(0, Z)\n",
    "    \n",
    "    # softmax activation function - my own function\n",
    "    def softmax(self, Z):\n",
    "        expZ = np.exp(Z - np.max(Z, axis=0, keepdims=True))  # Prevent overflow\n",
    "        return expZ / np.sum(expZ, axis=0, keepdims=True)\n",
    "    \n",
    "    # Forward Propagation method (Part B)\n",
    "    def forward_propagation(self, X):\n",
    "        Z1 = self.W1.dot(X) + self.b1\n",
    "        A1 = self.ReLU(Z1)\n",
    "        Z2 = self.W2.dot(A1) + self.b2\n",
    "        A2 = self.softmax(Z2)\n",
    "        return Z1, A1, Z2, A2\n",
    "    \n",
    "    # Computes the derivative of the ReLU function\n",
    "    def ReLU_derivative(self, Z):\n",
    "        return Z > 0\n",
    "    \n",
    "    # Converts the labels into one-hot encoding\n",
    "    def one_hot_encode(self, Y, num_classes=10):\n",
    "        one_hot_Y = np.zeros((num_classes, Y.size))\n",
    "        one_hot_Y[Y, np.arange(Y.size)] = 1\n",
    "        return one_hot_Y\n",
    "    \n",
    "    # Computes the  cross-entropy loss - (Part E)\n",
    "    def compute_cost(self, A2, Y):\n",
    "        m = Y.size\n",
    "        one_hot_Y = self.one_hot_encode(Y)\n",
    "        cost = -np.sum(one_hot_Y * np.log(A2 + 1e-8)) / m\n",
    "        return cost\n",
    "    \n",
    "    # Computes gradients using backpropagation (Part C)\n",
    "    def backward_propagation(self, X, Y, Z1, A1, Z2, A2):\n",
    "        m = X.shape[1]\n",
    "        one_hot_Y = self.one_hot_encode(Y)\n",
    "\n",
    "        dZ2 = A2 - one_hot_Y\n",
    "        dW2 = (1 / m) * np.dot(dZ2, A1.T)\n",
    "        db2 = (1 / m) * np.sum(dZ2, axis=1, keepdims=True)\n",
    "\n",
    "        dZ1 = np.dot(self.W2.T, dZ2) * self.ReLU_derivative(Z1)\n",
    "        dW1 = (1 / m) * np.dot(dZ1, X.T)\n",
    "        db1 = (1 / m) * np.sum(dZ1, axis=1, keepdims=True)\n",
    "\n",
    "        return dW1, db1, dW2, db2\n",
    "    \n",
    "    \n",
    "    # Updates the network parameters using gradient descent.\n",
    "    def update_parameters(self, dW1, db1, dW2, db2):\n",
    "        self.W1 -= self.learning_rate * dW1\n",
    "        self.b1 -= self.learning_rate * db1\n",
    "        self.W2 -= self.learning_rate * dW2\n",
    "        self.b2 -= self.learning_rate * db2\n",
    "    \n",
    "    # Trains the neural network using gradient descent. (Part D)\n",
    "    def train(self, X, Y, iterations=500):\n",
    "        for i in range(iterations):\n",
    "            Z1, A1, Z2, A2 = self.forward_propagation(X)\n",
    "            cost = self.compute_cost(A2, Y)\n",
    "            dW1, db1, dW2, db2 = self.backward_propagation(X, Y, Z1, A1, Z2, A2)\n",
    "            self.update_parameters(dW1, db1, dW2, db2)\n",
    "\n",
    "            if i % 10 == 0:\n",
    "                predictions = self.predict(X)\n",
    "                accuracy = self.get_accuracy(predictions, Y)\n",
    "                print(f\"Iteration {i}, Cost: {cost:.4f}, Accuracy: {accuracy:.4f}\")\n",
    "    \n",
    "    # Makes predictions using the trained model. - Part F\n",
    "    def predict(self, X):\n",
    "        _, _, _, A2 = self.forward_propagation(X)\n",
    "        return np.argmax(A2, axis=0)\n",
    "    \n",
    "    # Computes the  accuracy of the predictions.\n",
    "    def get_accuracy(self, predictions, Y):\n",
    "        return np.mean(predictions == Y)\n",
    "    \n",
    "    # Training the neural network using the mini batch gradient descent\n",
    "    def train_mini_batch(self, X, Y, batch_size=64, iterations=500):\n",
    "        m = X.shape[1]  # number of training examples\n",
    "        for i in range(iterations):\n",
    "            # shuffling the training set each epoch\n",
    "            permutation = np.random.permutation(m)\n",
    "            X_shuffled = X[:, permutation]\n",
    "            Y_shuffled = Y[permutation]\n",
    "            \n",
    "            # splitting into mini batches\n",
    "            for start_idx in range(0, m, batch_size):\n",
    "                end_idx = start_idx + batch_size\n",
    "                X_batch = X_shuffled[:, start_idx:end_idx]\n",
    "                Y_batch = Y_shuffled[start_idx:end_idx]\n",
    "    \n",
    "                # forward propagration \n",
    "                Z1, A1, Z2, A2 = self.forward_propagation(X_batch)\n",
    "                # Computes the cost on the mini-batch \n",
    "                cost = self.compute_cost(A2, Y_batch)\n",
    "                # Backward Propagation\n",
    "                dW1, db1, dW2, db2 = self.backward_propagation(X_batch, Y_batch, Z1, A1, Z2, A2)\n",
    "                # Updates Parameters\n",
    "                self.update_parameters(dW1, db1, dW2, db2)\n",
    "    \n",
    "            if i % 10 == 0:\n",
    "                predictions = self.predict(X)\n",
    "                accuracy = self.get_accuracy(predictions, Y)\n",
    "                print(f\"Iteration {i}, Cost (mini-batch): {cost:.4f}, Train Accuracy: {accuracy:.4f}\")\n"
   ],
   "id": "9c319f5113f666a6",
   "outputs": [],
   "execution_count": 1
  },
  {
   "metadata": {
    "ExecuteTime": {
     "end_time": "2025-02-15T10:23:54.045654Z",
     "start_time": "2025-02-15T10:23:53.893026Z"
    }
   },
   "cell_type": "code",
   "source": [
    "# I wrote this code so that i could convert images into numpy arrays\n",
    "def load_mnist_images(filename):\n",
    "    with open(filename, 'rb') as f:\n",
    "        _, num_images, rows, cols = struct.unpack(\">IIII\", f.read(16))\n",
    "        images = np.fromfile(f, dtype=np.uint8).reshape(num_images, rows * cols)\n",
    "    return images.T / 255.0  \n",
    "\n",
    "def load_mnist_labels(filename):\n",
    "    with open(filename, 'rb') as f:\n",
    "        _, num_labels = struct.unpack(\">II\", f.read(8))\n",
    "        labels = np.fromfile(f, dtype=np.uint8)\n",
    "    return labels\n",
    "\n",
    "\n",
    "\n",
    "data_dir = \"./\"  \n",
    "train_images_path = os.path.join(data_dir, \"train-images.idx3-ubyte\")\n",
    "train_labels_path = os.path.join(data_dir, \"train-labels.idx1-ubyte\")\n",
    "test_images_path = os.path.join(data_dir, \"t10k-images.idx3-ubyte\")\n",
    "test_labels_path = os.path.join(data_dir, \"t10k-labels.idx1-ubyte\")\n",
    "\n",
    "#Loading the dataset:\n",
    "\n",
    "\n",
    "X_train = load_mnist_images(train_images_path)\n",
    "Y_train = load_mnist_labels(train_labels_path)\n",
    "X_test = load_mnist_images(test_images_path)\n",
    "Y_test = load_mnist_labels(test_labels_path)\n",
    "\n",
    "print(f\"Train shape: {X_train.shape}, Labels shape: {Y_train.shape}\")\n",
    "print(f\"Test shape: {X_test.shape}, Labels shape: {Y_test.shape}\")\n"
   ],
   "id": "cbd73807a417a2e8",
   "outputs": [
    {
     "name": "stdout",
     "output_type": "stream",
     "text": [
      "Train shape: (784, 60000), Labels shape: (60000,)\n",
      "Test shape: (784, 10000), Labels shape: (10000,)\n"
     ]
    }
   ],
   "execution_count": 3
  },
  {
   "metadata": {
    "ExecuteTime": {
     "end_time": "2025-02-15T09:34:36.486179Z",
     "start_time": "2025-02-15T09:31:41.033726Z"
    }
   },
   "cell_type": "code",
   "source": [
    "# Training the model:\n",
    "nn = NeuralNetwork(learning_rate=0.1)\n",
    "nn.train(X_train, Y_train, iterations=500)\n"
   ],
   "id": "db5858c70d3f028e",
   "outputs": [
    {
     "name": "stdout",
     "output_type": "stream",
     "text": [
      "Iteration 0, Cost: 2.3027, Accuracy: 0.0629\n",
      "Iteration 10, Cost: 2.3018, Accuracy: 0.1124\n",
      "Iteration 20, Cost: 2.3006, Accuracy: 0.1124\n",
      "Iteration 30, Cost: 2.2984, Accuracy: 0.1124\n",
      "Iteration 40, Cost: 2.2941, Accuracy: 0.1124\n",
      "Iteration 50, Cost: 2.2848, Accuracy: 0.1124\n",
      "Iteration 60, Cost: 2.2656, Accuracy: 0.1124\n",
      "Iteration 70, Cost: 2.2290, Accuracy: 0.1235\n",
      "Iteration 80, Cost: 2.1661, Accuracy: 0.2731\n",
      "Iteration 90, Cost: 2.0683, Accuracy: 0.3992\n",
      "Iteration 100, Cost: 1.9229, Accuracy: 0.4763\n",
      "Iteration 110, Cost: 1.7265, Accuracy: 0.5296\n",
      "Iteration 120, Cost: 1.5142, Accuracy: 0.5807\n",
      "Iteration 130, Cost: 1.3318, Accuracy: 0.6235\n",
      "Iteration 140, Cost: 1.1925, Accuracy: 0.6538\n",
      "Iteration 150, Cost: 1.0878, Accuracy: 0.6767\n",
      "Iteration 160, Cost: 1.0071, Accuracy: 0.6974\n",
      "Iteration 170, Cost: 0.9422, Accuracy: 0.7152\n",
      "Iteration 180, Cost: 0.8881, Accuracy: 0.7312\n",
      "Iteration 190, Cost: 0.8417, Accuracy: 0.7455\n",
      "Iteration 200, Cost: 0.8010, Accuracy: 0.7598\n",
      "Iteration 210, Cost: 0.7647, Accuracy: 0.7729\n",
      "Iteration 220, Cost: 0.7321, Accuracy: 0.7843\n",
      "Iteration 230, Cost: 0.7025, Accuracy: 0.7938\n",
      "Iteration 240, Cost: 0.6756, Accuracy: 0.8027\n",
      "Iteration 250, Cost: 0.6510, Accuracy: 0.8101\n",
      "Iteration 260, Cost: 0.6285, Accuracy: 0.8173\n",
      "Iteration 270, Cost: 0.6078, Accuracy: 0.8234\n",
      "Iteration 280, Cost: 0.5889, Accuracy: 0.8299\n",
      "Iteration 290, Cost: 0.5716, Accuracy: 0.8349\n",
      "Iteration 300, Cost: 0.5557, Accuracy: 0.8404\n",
      "Iteration 310, Cost: 0.5412, Accuracy: 0.8453\n",
      "Iteration 320, Cost: 0.5279, Accuracy: 0.8495\n",
      "Iteration 330, Cost: 0.5156, Accuracy: 0.8538\n",
      "Iteration 340, Cost: 0.5045, Accuracy: 0.8573\n",
      "Iteration 350, Cost: 0.4942, Accuracy: 0.8604\n",
      "Iteration 360, Cost: 0.4847, Accuracy: 0.8633\n",
      "Iteration 370, Cost: 0.4760, Accuracy: 0.8659\n",
      "Iteration 380, Cost: 0.4680, Accuracy: 0.8684\n",
      "Iteration 390, Cost: 0.4607, Accuracy: 0.8703\n",
      "Iteration 400, Cost: 0.4538, Accuracy: 0.8723\n",
      "Iteration 410, Cost: 0.4475, Accuracy: 0.8740\n",
      "Iteration 420, Cost: 0.4417, Accuracy: 0.8757\n",
      "Iteration 430, Cost: 0.4363, Accuracy: 0.8774\n",
      "Iteration 440, Cost: 0.4313, Accuracy: 0.8790\n",
      "Iteration 450, Cost: 0.4266, Accuracy: 0.8801\n",
      "Iteration 460, Cost: 0.4222, Accuracy: 0.8813\n",
      "Iteration 470, Cost: 0.4181, Accuracy: 0.8823\n",
      "Iteration 480, Cost: 0.4143, Accuracy: 0.8833\n",
      "Iteration 490, Cost: 0.4107, Accuracy: 0.8844\n"
     ]
    }
   ],
   "execution_count": 4
  },
  {
   "metadata": {
    "ExecuteTime": {
     "end_time": "2025-02-15T09:35:23.428890Z",
     "start_time": "2025-02-15T09:35:23.310311Z"
    }
   },
   "cell_type": "code",
   "source": [
    "# Evalauting the model's performance:\n",
    "test_predictions = nn.predict(X_test)\n",
    "test_accuracy = nn.get_accuracy(test_predictions, Y_test)\n",
    "print(f\"Test Accuracy: {test_accuracy:.4f}\")"
   ],
   "id": "17305dd977b3da71",
   "outputs": [
    {
     "name": "stdout",
     "output_type": "stream",
     "text": [
      "Test Accuracy: 0.8856\n"
     ]
    }
   ],
   "execution_count": 5
  },
  {
   "metadata": {
    "ExecuteTime": {
     "end_time": "2025-02-15T09:38:09.597903Z",
     "start_time": "2025-02-15T09:38:08.688763Z"
    }
   },
   "cell_type": "code",
   "source": [
    "# Testing with sample predictions:\n",
    "import matplotlib.pyplot as plt\n",
    "\n",
    "def test_prediction(index, model, X, Y):\n",
    "    image = X[:, index, None]\n",
    "    prediction = model.predict(image)\n",
    "    label = Y[index]\n",
    "\n",
    "    print(f\"Prediction: {prediction}, Label: {label}\")\n",
    "    image = image.reshape((28, 28)) * 255\n",
    "    plt.gray()\n",
    "    plt.imshow(image, interpolation='nearest')\n",
    "    plt.show()\n",
    "\n",
    "test_prediction(0, nn, X_test, Y_test)\n",
    "test_prediction(1, nn, X_test, Y_test)\n",
    "test_prediction(2, nn, X_test, Y_test)\n",
    "test_prediction(3, nn, X_test, Y_test)"
   ],
   "id": "5bd0e1fef9dc2c2f",
   "outputs": [
    {
     "name": "stdout",
     "output_type": "stream",
     "text": [
      "Prediction: [7], Label: 7\n"
     ]
    },
    {
     "data": {
      "text/plain": [
       "<Figure size 640x480 with 1 Axes>"
      ],
      "image/png": "[encoded data removed]"
     },
     "metadata": {},
     "output_type": "display_data"
    },
    {
     "name": "stdout",
     "output_type": "stream",
     "text": [
      "Prediction: [2], Label: 2\n"
     ]
    },
    {
     "data": {
      "text/plain": [
       "<Figure size 640x480 with 1 Axes>"
      ],
      "image/png": "[encoded data removed]"
     },
     "metadata": {},
     "output_type": "display_data"
    },
    {
     "name": "stdout",
     "output_type": "stream",
     "text": [
      "Prediction: [1], Label: 1\n"
     ]
    },
    {
     "data": {
      "text/plain": [
       "<Figure size 640x480 with 1 Axes>"
      ],
      "image/png": "[encoded data removed]"
     },
     "metadata": {},
     "output_type": "display_data"
    },
    {
     "name": "stdout",
     "output_type": "stream",
     "text": [
      "Prediction: [0], Label: 0\n"
     ]
    },
    {
     "data": {
      "text/plain": [
       "<Figure size 640x480 with 1 Axes>"
      ],
      "image/png": "[encoded data removed]"
     },
     "metadata": {},
     "output_type": "display_data"
    }
   ],
   "execution_count": 6
  },
  {
   "metadata": {},
   "cell_type": "markdown",
   "source": "",
   "id": "9d5b779de4c6cb0f"
  },
  {
   "metadata": {},
   "cell_type": "code",
   "outputs": [],
   "execution_count": null,
   "source": "#After training the neural network on the MNIST dataset, the model achiveved a training accuracy of 85% and a very similar testing accuracy after 500 iterations.",
   "id": "e9d8d4b5a1e8c280"
  },
  {
   "metadata": {},
   "cell_type": "code",
   "outputs": [],
   "execution_count": null,
   "source": "# Between mini batch gradient descent and stochastic gradient descent, mini batch gradient descent provides a balance between speed and stability.When compared to batch gradient descent, it can converge more quickly since parameters are updated multiple time per each epoch. Also, when your dataset is large, you don't need all the data in memory for a single gradient descent. Furthermore, the slight variability in updates can help the model escape local minima and usually leads to better generalization.",
   "id": "5ede5c729a6bd3c0"
  },
  {
   "metadata": {
    "ExecuteTime": {
     "end_time": "2025-02-15T10:02:34.868326Z",
     "start_time": "2025-02-15T10:00:41.646333Z"
    }
   },
   "cell_type": "code",
   "source": [
    "# Training the mini batch\n",
    "# Suppose X_train, Y_train are your training data and labels\n",
    "model = NeuralNetwork(learning_rate=0.1)\n",
    "model.train_mini_batch(X_train, Y_train, batch_size=64, iterations=50)\n"
   ],
   "id": "a46574fdb8378094",
   "outputs": [
    {
     "name": "stdout",
     "output_type": "stream",
     "text": [
      "Iteration 0, Cost (mini-batch): 0.2677, Train Accuracy: 0.9008\n",
      "Iteration 10, Cost (mini-batch): 0.0682, Train Accuracy: 0.9381\n",
      "Iteration 20, Cost (mini-batch): 0.1044, Train Accuracy: 0.9434\n",
      "Iteration 30, Cost (mini-batch): 0.2549, Train Accuracy: 0.9405\n",
      "Iteration 40, Cost (mini-batch): 0.0806, Train Accuracy: 0.9499\n"
     ]
    }
   ],
   "execution_count": 10
  },
  {
   "metadata": {},
   "cell_type": "code",
   "outputs": [],
   "execution_count": null,
   "source": [
    "# Task 2:\n",
    "# Task 1 I am choosing pytorch because it has an eager execution model which makes it easier to debug and understand its computational flow."
   ],
   "id": "3a1f7f326ba03122"
  },
  {
   "metadata": {
    "ExecuteTime": {
     "end_time": "2025-02-15T10:24:06.907188Z",
     "start_time": "2025-02-15T10:24:02.265520Z"
    }
   },
   "cell_type": "code",
   "source": [
    "# Task 2:\n",
    "# Exploratory Data Analysis\n",
    "import torch\n",
    "import torch.nn as nn\n",
    "import torch.optim as optim\n",
    "import torchvision\n",
    "import torchvision.transforms as transforms\n",
    "import matplotlib.pyplot as plt\n",
    "\n",
    "# checks for gpu\n",
    "device = torch.device(\"cuda\" if torch.cuda.is_available() else \"cpu\")\n",
    "\n",
    "# converts images to tensor and normalizes to 0,1\n",
    "transform = transforms.Compose([\n",
    "    transforms.ToTensor()\n",
    "])\n",
    "\n",
    "# Downloads the mnist dataset the pytorch way\n",
    "train_dataset = torchvision.datasets.MNIST(\n",
    "    root='./data',\n",
    "    train=True,\n",
    "    transform=transform,\n",
    "    download=True\n",
    ")\n",
    "\n",
    "test_dataset = torchvision.datasets.MNIST(\n",
    "    root='./data',\n",
    "    train=False,\n",
    "    transform=transform,\n",
    "    download=True\n",
    ")\n"
   ],
   "id": "e2fe31ece852ef62",
   "outputs": [
    {
     "name": "stderr",
     "output_type": "stream",
     "text": [
      "/Library/Frameworks/Python.framework/Versions/3.10/lib/python3.10/site-packages/torch/utils/_pytree.py:185: FutureWarning: optree is installed but the version is too old to support PyTorch Dynamo in C++ pytree. C++ pytree support is disabled. Please consider upgrading optree using `python3 -m pip install --upgrade 'optree>=0.13.0'`.\n",
      "  warnings.warn(\n",
      "100.0%\n",
      "100.0%\n",
      "100.0%\n",
      "100.0%\n"
     ]
    }
   ],
   "execution_count": 4
  },
  {
   "metadata": {
    "ExecuteTime": {
     "end_time": "2025-02-15T10:25:43.282841Z",
     "start_time": "2025-02-15T10:25:43.188028Z"
    }
   },
   "cell_type": "code",
   "source": [
    "# Visualizing some samples\n",
    "sample_img, sample_label = train_dataset[0]\n",
    "plt.imshow(sample_img.squeeze(), cmap='gray')\n",
    "plt.title(f\"Label: {sample_label}\")\n",
    "plt.show()\n"
   ],
   "id": "ac79940a5899995d",
   "outputs": [
    {
     "data": {
      "text/plain": [
       "<Figure size 640x480 with 1 Axes>"
      ],
      "image/png": "[encoded data removed]"
     },
     "metadata": {},
     "output_type": "display_data"
    }
   ],
   "execution_count": 5
  },
  {
   "metadata": {
    "ExecuteTime": {
     "end_time": "2025-02-15T10:26:08.338929Z",
     "start_time": "2025-02-15T10:26:08.320447Z"
    }
   },
   "cell_type": "code",
   "source": [
    "# Train-dev-test split:\n",
    "from torch.utils.data import random_split, DataLoader\n",
    "\n",
    "# Let's split the train_dataset into train + dev\n",
    "train_size = int(0.8 * len(train_dataset))  # 80% for training\n",
    "dev_size = len(train_dataset) - train_size   # 20% for dev\n",
    "train_subset, dev_subset = random_split(train_dataset, [train_size, dev_size])\n",
    "\n",
    "batch_size = 64\n",
    "\n",
    "train_loader = DataLoader(train_subset, batch_size=batch_size, shuffle=True)\n",
    "dev_loader   = DataLoader(dev_subset, batch_size=batch_size, shuffle=False)\n",
    "test_loader  = DataLoader(test_dataset, batch_size=batch_size, shuffle=False)\n"
   ],
   "id": "847c5367faa6af4e",
   "outputs": [],
   "execution_count": 6
  },
  {
   "metadata": {
    "ExecuteTime": {
     "end_time": "2025-02-15T10:26:49.143455Z",
     "start_time": "2025-02-15T10:26:49.134769Z"
    }
   },
   "cell_type": "code",
   "source": [
    "# Implementing forward propagation\n",
    "class TwoLayerNN(nn.Module):\n",
    "    def __init__(self, input_size=28*28, hidden_size=128, num_classes=10):\n",
    "        super(TwoLayerNN, self).__init__()\n",
    "        # Layer 1\n",
    "        self.fc1 = nn.Linear(input_size, hidden_size)\n",
    "        # Layer 2\n",
    "        self.fc2 = nn.Linear(hidden_size, num_classes)\n",
    "\n",
    "    def forward(self, x):\n",
    "        x = x.view(x.size(0), -1)  \n",
    "        out = self.fc1(x)          \n",
    "        out = torch.relu(out)     \n",
    "        out = self.fc2(out)        \n",
    "        return out\n"
   ],
   "id": "2e7c4a0b9a64e3b8",
   "outputs": [],
   "execution_count": 7
  },
  {
   "metadata": {
    "ExecuteTime": {
     "end_time": "2025-02-15T10:27:06.701450Z",
     "start_time": "2025-02-15T10:27:06.697028Z"
    }
   },
   "cell_type": "code",
   "source": [
    "# Computing the final cost function\n",
    "criterion = nn.CrossEntropyLoss()\n"
   ],
   "id": "4cc65617c5c29b3d",
   "outputs": [],
   "execution_count": 8
  },
  {
   "metadata": {
    "ExecuteTime": {
     "end_time": "2025-02-15T10:28:51.217133Z",
     "start_time": "2025-02-15T10:28:40.297136Z"
    }
   },
   "cell_type": "code",
   "source": [
    "# Implementing gradient descent to train the model\n",
    "# using the Adam optimizer\n",
    "model = TwoLayerNN().to(device)\n",
    "\n",
    "criterion = nn.CrossEntropyLoss()\n",
    "optimizer = optim.Adam(model.parameters(), lr=0.001)\n",
    "\n",
    "num_epochs = 5\n",
    "\n",
    "for epoch in range(num_epochs):\n",
    "    model.train()  # Set model to training mode\n",
    "    running_loss = 0.0\n",
    "    for images, labels in train_loader:\n",
    "        images, labels = images.to(device), labels.to(device)\n",
    "\n",
    "        # forward propagation\n",
    "        outputs = model(images)\n",
    "        loss = criterion(outputs, labels)\n",
    "\n",
    "        # backward propagation\n",
    "        optimizer.zero_grad()  \n",
    "        loss.backward()   \n",
    "        optimizer.step()     \n",
    "\n",
    "        running_loss += loss.item()\n",
    "\n",
    "    epoch_loss = running_loss / len(train_loader)\n",
    "    print(f\"Epoch [{epoch+1}/{num_epochs}], Loss: {epoch_loss:.4f}\")\n",
    "\n",
    "    model.eval()\n",
    "    correct = 0\n",
    "    total = 0\n",
    "    with torch.no_grad():\n",
    "        for images, labels in dev_loader:\n",
    "            images, labels = images.to(device), labels.to(device)\n",
    "            outputs = model(images)\n",
    "            _, predicted = torch.max(outputs, 1)\n",
    "            correct += (predicted == labels).sum().item()\n",
    "            total += labels.size(0)\n",
    "\n",
    "    dev_accuracy = 100 * correct / total\n",
    "    print(f\"Dev Accuracy: {dev_accuracy:.2f}%\")"
   ],
   "id": "de48a225f66b63ad",
   "outputs": [
    {
     "name": "stdout",
     "output_type": "stream",
     "text": [
      "Epoch [1/5], Loss: 0.3842\n",
      "Dev Accuracy: 94.22%\n",
      "Epoch [2/5], Loss: 0.1814\n",
      "Dev Accuracy: 95.47%\n",
      "Epoch [3/5], Loss: 0.1277\n",
      "Dev Accuracy: 96.08%\n",
      "Epoch [4/5], Loss: 0.0969\n",
      "Dev Accuracy: 96.58%\n",
      "Epoch [5/5], Loss: 0.0765\n",
      "Dev Accuracy: 97.01%\n"
     ]
    }
   ],
   "execution_count": 9
  },
  {
   "metadata": {
    "ExecuteTime": {
     "end_time": "2025-02-15T10:29:30.570799Z",
     "start_time": "2025-02-15T10:29:30.237272Z"
    }
   },
   "cell_type": "code",
   "source": [
    "# Presenting results using the test set:\n",
    "model.eval()\n",
    "test_correct = 0\n",
    "test_total = 0\n",
    "with torch.no_grad():\n",
    "    for images, labels in test_loader:\n",
    "        images, labels = images.to(device), labels.to(device)\n",
    "        outputs = model(images)\n",
    "        _, predicted = torch.max(outputs, 1)\n",
    "        test_correct += (predicted == labels).sum().item()\n",
    "        test_total += labels.size(0)\n",
    "\n",
    "test_accuracy = 100 * test_correct / test_total\n",
    "print(f\"Test Accuracy: {test_accuracy:.2f}%\")\n"
   ],
   "id": "c9ba0d7cfa4c8d3a",
   "outputs": [
    {
     "name": "stdout",
     "output_type": "stream",
     "text": [
      "Test Accuracy: 97.20%\n"
     ]
    }
   ],
   "execution_count": 10
  },
  {
   "metadata": {},
   "cell_type": "code",
   "outputs": [],
   "execution_count": null,
   "source": [
    "# Task 3:\n",
    "# I chose Adam because Adam adapts the learning rate for each parameter, often converging faster than vanilla stochastic gradient descent and it is more tolerant of suboptimal hyperparameters.\n",
    "# I did not use explicit regularization because MNIST is a simpler dataset. MNIST does not require heavy regularization to achieve high accuracy."
   ],
   "id": "d3d5ed8770e50f0c"
  }
 ],
 "metadata": {
  "kernelspec": {
   "display_name": "Python 3",
   "language": "python",
   "name": "python3"
  },
  "language_info": {
   "codemirror_mode": {
    "name": "ipython",
    "version": 2
   },
   "file_extension": ".py",
   "mimetype": "text/x-python",
   "name": "python",
   "nbconvert_exporter": "python",
   "pygments_lexer": "ipython2",
   "version": "2.7.6"
  }
 },
 "nbformat": 4,
 "nbformat_minor": 5
}
